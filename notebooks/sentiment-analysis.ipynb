{
 "cells": [
  {
   "cell_type": "code",
   "execution_count": 2,
   "id": "c5c4af9e",
   "metadata": {},
   "outputs": [],
   "source": [
    "import pandas as pd\n",
    "\n",
    "books = pd.read_csv(\"books_with_categories.csv\")"
   ]
  },
  {
   "cell_type": "code",
   "execution_count": 3,
   "id": "bc28cfc0",
   "metadata": {},
   "outputs": [
    {
     "name": "stdout",
     "output_type": "stream",
     "text": [
      "WARNING:tensorflow:From C:\\Users\\bhutt\\AppData\\Local\\Packages\\PythonSoftwareFoundation.Python.3.10_qbz5n2kfra8p0\\LocalCache\\local-packages\\Python310\\site-packages\\keras\\src\\losses.py:2976: The name tf.losses.sparse_softmax_cross_entropy is deprecated. Please use tf.compat.v1.losses.sparse_softmax_cross_entropy instead.\n",
      "\n"
     ]
    },
    {
     "name": "stderr",
     "output_type": "stream",
     "text": [
      "Device set to use cpu\n"
     ]
    },
    {
     "name": "stdout",
     "output_type": "stream",
     "text": [
      "[[{'label': 'joy', 'score': 0.9771687984466553}, {'label': 'surprise', 'score': 0.008528691716492176}, {'label': 'neutral', 'score': 0.005764589179307222}, {'label': 'anger', 'score': 0.004419791977852583}, {'label': 'sadness', 'score': 0.002092393347993493}, {'label': 'disgust', 'score': 0.001611992483958602}, {'label': 'fear', 'score': 0.0004138525982853025}]]\n"
     ]
    }
   ],
   "source": [
    "from transformers import pipeline\n",
    "classifier = pipeline(\"text-classification\", model=\"j-hartmann/emotion-english-distilroberta-base\", top_k=None, device=0)\n",
    "\n",
    "\n",
    "print(classifier(\"I love this!\"))"
   ]
  },
  {
   "cell_type": "code",
   "execution_count": 4,
   "id": "b0971771",
   "metadata": {},
   "outputs": [
    {
     "name": "stdout",
     "output_type": "stream",
     "text": [
      "A NOVEL THAT READERS and critics have been eagerly anticipating for over a decade, Gilead is an astonishingly imagined story of remarkable lives. John Ames is a preacher, the son of a preacher and the grandson (both maternal and paternal) of preachers. It’s 1956 in Gilead, Iowa, towards the end of the Reverend Ames’s life, and he is absorbed in recording his family’s story, a legacy for the young son he will never see grow up. Haunted by his grandfather’s presence, John tells of the rift between his grandfather and his father: the elder, an angry visionary who fought for the abolitionist cause, and his son, an ardent pacifist. He is troubled, too, by his prodigal namesake, Jack (John Ames) Boughton, his best friend’s lost son who returns to Gilead searching for forgiveness and redemption. Told in John Ames’s joyous, rambling voice that finds beauty, humour and truth in the smallest of life’s details, Gilead is a song of celebration and acceptance of the best and the worst the world has to offer. At its heart is a tale of the sacred bonds between fathers and sons, pitch-perfect in style and story, set to dazzle critics and readers alike.\n"
     ]
    }
   ],
   "source": [
    "print(books[\"description\"][0])"
   ]
  },
  {
   "cell_type": "code",
   "execution_count": 5,
   "id": "93542689",
   "metadata": {},
   "outputs": [
    {
     "name": "stdout",
     "output_type": "stream",
     "text": [
      "Model saved locally at ./emotion_model\n"
     ]
    }
   ],
   "source": [
    "model_name = \"j-hartmann/emotion-english-distilroberta-base\"\n",
    "local_dir = \"./emotion_model\"\n",
    "\n",
    "classifier.model.save_pretrained(local_dir)\n",
    "classifier.tokenizer.save_pretrained(local_dir)\n",
    "\n",
    "print(\"Model saved locally at\", local_dir)"
   ]
  },
  {
   "cell_type": "code",
   "execution_count": 6,
   "id": "5f0f955a",
   "metadata": {},
   "outputs": [
    {
     "name": "stdout",
     "output_type": "stream",
     "text": [
      "[[{'label': 'fear', 'score': 0.6548402309417725}, {'label': 'neutral', 'score': 0.16985242068767548}, {'label': 'sadness', 'score': 0.1164093017578125}, {'label': 'surprise', 'score': 0.020700663328170776}, {'label': 'disgust', 'score': 0.019100690260529518}, {'label': 'joy', 'score': 0.015161467716097832}, {'label': 'anger', 'score': 0.003935147542506456}]]\n"
     ]
    }
   ],
   "source": [
    "print(classifier(books[\"description\"][0]))"
   ]
  },
  {
   "cell_type": "code",
   "execution_count": 7,
   "id": "7db0fae9",
   "metadata": {},
   "outputs": [
    {
     "name": "stdout",
     "output_type": "stream",
     "text": [
      "[[{'label': 'surprise', 'score': 0.7296021580696106}, {'label': 'neutral', 'score': 0.14038598537445068}, {'label': 'fear', 'score': 0.06816227734088898}, {'label': 'joy', 'score': 0.04794260486960411}, {'label': 'anger', 'score': 0.009156367741525173}, {'label': 'disgust', 'score': 0.0026284768246114254}, {'label': 'sadness', 'score': 0.002122163772583008}], [{'label': 'neutral', 'score': 0.4493706524372101}, {'label': 'disgust', 'score': 0.27359113097190857}, {'label': 'joy', 'score': 0.1090831384062767}, {'label': 'sadness', 'score': 0.09362747520208359}, {'label': 'anger', 'score': 0.04047833010554314}, {'label': 'surprise', 'score': 0.02697019837796688}, {'label': 'fear', 'score': 0.006879049818962812}], [{'label': 'neutral', 'score': 0.6462159156799316}, {'label': 'sadness', 'score': 0.242733433842659}, {'label': 'disgust', 'score': 0.043422672897577286}, {'label': 'surprise', 'score': 0.02830057218670845}, {'label': 'joy', 'score': 0.014211490750312805}, {'label': 'fear', 'score': 0.014084091410040855}, {'label': 'anger', 'score': 0.011031905189156532}], [{'label': 'fear', 'score': 0.9281682968139648}, {'label': 'anger', 'score': 0.03219081461429596}, {'label': 'neutral', 'score': 0.012808660045266151}, {'label': 'sadness', 'score': 0.008756875991821289}, {'label': 'surprise', 'score': 0.008597892709076405}, {'label': 'disgust', 'score': 0.008431807160377502}, {'label': 'joy', 'score': 0.0010455832816660404}], [{'label': 'sadness', 'score': 0.9671575427055359}, {'label': 'neutral', 'score': 0.015104148536920547}, {'label': 'disgust', 'score': 0.00648059556260705}, {'label': 'fear', 'score': 0.005393987521529198}, {'label': 'surprise', 'score': 0.0022869398817420006}, {'label': 'anger', 'score': 0.001842890284024179}, {'label': 'joy', 'score': 0.0017338779289275408}], [{'label': 'joy', 'score': 0.9327981472015381}, {'label': 'disgust', 'score': 0.0377170704305172}, {'label': 'neutral', 'score': 0.015891827642917633}, {'label': 'sadness', 'score': 0.006444500293582678}, {'label': 'anger', 'score': 0.005024968180805445}, {'label': 'surprise', 'score': 0.0015812065685167909}, {'label': 'fear', 'score': 0.0005423057009465992}], [{'label': 'joy', 'score': 0.6528705954551697}, {'label': 'neutral', 'score': 0.25427478551864624}, {'label': 'surprise', 'score': 0.06808297336101532}, {'label': 'sadness', 'score': 0.009908991865813732}, {'label': 'disgust', 'score': 0.006512214429676533}, {'label': 'anger', 'score': 0.0048213074915111065}, {'label': 'fear', 'score': 0.003529018023982644}], [{'label': 'neutral', 'score': 0.549476683139801}, {'label': 'sadness', 'score': 0.11169019341468811}, {'label': 'disgust', 'score': 0.10400673747062683}, {'label': 'surprise', 'score': 0.07876546680927277}, {'label': 'anger', 'score': 0.06413363665342331}, {'label': 'fear', 'score': 0.051362838596105576}, {'label': 'joy', 'score': 0.04056441783905029}]]\n"
     ]
    }
   ],
   "source": [
    "print(classifier(books[\"description\"][0].split(\".\")))"
   ]
  },
  {
   "cell_type": "code",
   "execution_count": 8,
   "id": "ba3c76ac",
   "metadata": {},
   "outputs": [],
   "source": [
    "sentences = books[\"description\"][0].split(\".\")\n",
    "predictions = classifier(sentences)"
   ]
  },
  {
   "cell_type": "code",
   "execution_count": 9,
   "id": "8eff5a4b",
   "metadata": {},
   "outputs": [
    {
     "name": "stdout",
     "output_type": "stream",
     "text": [
      "A NOVEL THAT READERS and critics have been eagerly anticipating for over a decade, Gilead is an astonishingly imagined story of remarkable lives\n",
      "[{'label': 'surprise', 'score': 0.7296021580696106}, {'label': 'neutral', 'score': 0.14038598537445068}, {'label': 'fear', 'score': 0.06816227734088898}, {'label': 'joy', 'score': 0.04794260486960411}, {'label': 'anger', 'score': 0.009156367741525173}, {'label': 'disgust', 'score': 0.0026284768246114254}, {'label': 'sadness', 'score': 0.002122163772583008}]\n"
     ]
    }
   ],
   "source": [
    "print(sentences[0])\n",
    "print(predictions[0])"
   ]
  },
  {
   "cell_type": "code",
   "execution_count": 10,
   "id": "fb1f9787",
   "metadata": {},
   "outputs": [
    {
     "name": "stdout",
     "output_type": "stream",
     "text": [
      " Haunted by his grandfather’s presence, John tells of the rift between his grandfather and his father: the elder, an angry visionary who fought for the abolitionist cause, and his son, an ardent pacifist\n",
      "[{'label': 'fear', 'score': 0.9281682968139648}, {'label': 'anger', 'score': 0.03219081461429596}, {'label': 'neutral', 'score': 0.012808660045266151}, {'label': 'sadness', 'score': 0.008756875991821289}, {'label': 'surprise', 'score': 0.008597892709076405}, {'label': 'disgust', 'score': 0.008431807160377502}, {'label': 'joy', 'score': 0.0010455832816660404}]\n"
     ]
    }
   ],
   "source": [
    "print(sentences[3])\n",
    "print(predictions[3])"
   ]
  },
  {
   "cell_type": "code",
   "execution_count": 11,
   "id": "a865bd12",
   "metadata": {},
   "outputs": [
    {
     "name": "stdout",
     "output_type": "stream",
     "text": [
      "[{'label': 'sadness', 'score': 0.002122163772583008}, {'label': 'disgust', 'score': 0.0026284768246114254}, {'label': 'anger', 'score': 0.009156367741525173}, {'label': 'joy', 'score': 0.04794260486960411}, {'label': 'fear', 'score': 0.06816227734088898}, {'label': 'neutral', 'score': 0.14038598537445068}, {'label': 'surprise', 'score': 0.7296021580696106}]\n"
     ]
    }
   ],
   "source": [
    "print(sorted(predictions[0], key=lambda x: x[\"score\"]))"
   ]
  },
  {
   "cell_type": "code",
   "execution_count": 12,
   "id": "e29c76f2",
   "metadata": {},
   "outputs": [
    {
     "name": "stdout",
     "output_type": "stream",
     "text": [
      "[{'label': 'anger', 'score': 0.009156367741525173}, {'label': 'disgust', 'score': 0.0026284768246114254}, {'label': 'fear', 'score': 0.06816227734088898}, {'label': 'joy', 'score': 0.04794260486960411}, {'label': 'neutral', 'score': 0.14038598537445068}, {'label': 'sadness', 'score': 0.002122163772583008}, {'label': 'surprise', 'score': 0.7296021580696106}]\n"
     ]
    }
   ],
   "source": [
    "print(sorted(predictions[0], key=lambda x: x[\"label\"]))"
   ]
  },
  {
   "cell_type": "code",
   "execution_count": 13,
   "id": "e595fd5a",
   "metadata": {},
   "outputs": [],
   "source": [
    "import numpy as np\n",
    "\n",
    "emotion_labels = [\"anger\", \"disgust\", \"fear\", \"joy\", \"neutral\", \"sadness\", \"surprise\"]\n",
    "\n",
    "isbn = []\n",
    "\n",
    "emotion_scores = {label: [] for label in emotion_labels}"
   ]
  },
  {
   "cell_type": "code",
   "execution_count": 14,
   "id": "8414106b",
   "metadata": {},
   "outputs": [],
   "source": [
    "def calculate_max_emotion_scores(predictions):\n",
    "    per_emotion_scores = {label: [] for label in emotion_labels}\n",
    "    for prediction in predictions:\n",
    "        sorted_predictions = sorted(prediction, key=lambda x: x[\"score\"])\n",
    "        for index, label in enumerate(emotion_labels):\n",
    "                per_emotion_scores[label].append(sorted_predictions[index][\"score\"])\n",
    "    return {label: np.max(scores) for label, scores in per_emotion_scores.items()}"
   ]
  },
  {
   "cell_type": "code",
   "execution_count": 15,
   "id": "31036386",
   "metadata": {},
   "outputs": [],
   "source": [
    "for i in range(10):\n",
    "    isbn.append(books[\"isbn13\"][i])\n",
    "    sentences = books[\"description\"][i].split(\".\")\n",
    "    predictions = classifier(sentences)\n",
    "    max_scores = calculate_max_emotion_scores(predictions)\n",
    "\n",
    "    for label in emotion_labels:\n",
    "        emotion_scores[label].append(max_scores[label])"
   ]
  },
  {
   "cell_type": "code",
   "execution_count": 16,
   "id": "1d26acaf",
   "metadata": {},
   "outputs": [
    {
     "name": "stdout",
     "output_type": "stream",
     "text": [
      "{'anger': [0.04056441783905029, 0.04056441783905029, 0.04056441783905029, 0.04056441783905029, 0.04056441783905029, 0.04056441783905029, 0.04056441783905029, 0.04056441783905029, 0.04056441783905029, 0.04056441783905029], 'disgust': [0.051362838596105576, 0.051362838596105576, 0.051362838596105576, 0.051362838596105576, 0.051362838596105576, 0.051362838596105576, 0.051362838596105576, 0.051362838596105576, 0.051362838596105576, 0.051362838596105576], 'fear': [0.06413363665342331, 0.07713049650192261, 0.06413363665342331, 0.06413363665342331, 0.06413363665342331, 0.06413363665342331, 0.06413363665342331, 0.06413363665342331, 0.07182523608207703, 0.06413363665342331], 'joy': [0.09362747520208359, 0.14334727823734283, 0.07876546680927277, 0.07967229932546616, 0.09504342079162598, 0.10239016264677048, 0.0845908597111702, 0.07876546680927277, 0.1356135606765747, 0.07876546680927277], 'neutral': [0.1090831384062767, 0.1954367607831955, 0.10400673747062683, 0.1507222205400467, 0.1222427561879158, 0.11962184309959412, 0.18529146909713745, 0.23448696732521057, 0.2491181194782257, 0.10400673747062683], 'sadness': [0.27359113097190857, 0.31934940814971924, 0.11169019341468811, 0.35148516297340393, 0.27261361479759216, 0.27190354466438293, 0.38535845279693604, 0.2921658754348755, 0.27948102355003357, 0.1779264211654663], 'surprise': [0.9671575427055359, 0.942527711391449, 0.9723207950592041, 0.7326849102973938, 0.8843895196914673, 0.7271752953529358, 0.872565746307373, 0.8202826380729675, 0.9155240654945374, 0.8603723645210266]}\n"
     ]
    }
   ],
   "source": [
    "print(emotion_scores)"
   ]
  },
  {
   "cell_type": "code",
   "execution_count": 17,
   "id": "192c62b9",
   "metadata": {},
   "outputs": [
    {
     "name": "stderr",
     "output_type": "stream",
     "text": [
      "100%|██████████| 5197/5197 [10:45<00:00,  8.06it/s]\n"
     ]
    }
   ],
   "source": [
    "from tqdm import tqdm\n",
    "\n",
    "emotion_labels = [\"anger\", \"disgust\", \"fear\", \"joy\", \"neutral\", \"sadness\", \"surprise\"]\n",
    "isbn = []\n",
    "emotion_scores = {label: [] for label in emotion_labels}\n",
    "\n",
    "for i in tqdm(range(len(books))):\n",
    "    isbn.append(books[\"isbn13\"][i])\n",
    "    sentences = books[\"description\"][i].split(\".\")\n",
    "    predictions = classifier(sentences)\n",
    "    max_scores = calculate_max_emotion_scores(predictions)\n",
    "\n",
    "    for label in emotion_labels:\n",
    "        emotion_scores[label].append(max_scores[label])"
   ]
  },
  {
   "cell_type": "code",
   "execution_count": 18,
   "id": "94daa2b6",
   "metadata": {},
   "outputs": [],
   "source": [
    "emotions_df = pd.DataFrame(emotion_scores)\n",
    "emotions_df[\"isbn13\"] = isbn"
   ]
  },
  {
   "cell_type": "code",
   "execution_count": 19,
   "id": "349129af",
   "metadata": {},
   "outputs": [
    {
     "name": "stdout",
     "output_type": "stream",
     "text": [
      "      anger   disgust      fear       joy   neutral   sadness  surprise  \\\n",
      "0  0.040564  0.051363  0.064134  0.093627  0.109083  0.273591  0.967158   \n",
      "1  0.040564  0.051363  0.077130  0.143347  0.195437  0.319349  0.942528   \n",
      "2  0.040564  0.051363  0.064134  0.078765  0.104007  0.111690  0.972321   \n",
      "3  0.040564  0.051363  0.064134  0.079672  0.150722  0.351485  0.732685   \n",
      "4  0.040564  0.051363  0.064134  0.095043  0.122243  0.272614  0.884390   \n",
      "\n",
      "          isbn13  \n",
      "0  9780002005883  \n",
      "1  9780002261982  \n",
      "2  9780006178736  \n",
      "3  9780006280897  \n",
      "4  9780006280934  \n"
     ]
    }
   ],
   "source": [
    "print(emotions_df.head())"
   ]
  },
  {
   "cell_type": "code",
   "execution_count": 20,
   "id": "edb8b437",
   "metadata": {},
   "outputs": [],
   "source": [
    "books = pd.merge(books, emotions_df, on=\"isbn13\")"
   ]
  },
  {
   "cell_type": "code",
   "execution_count": 21,
   "id": "0ad942d4",
   "metadata": {},
   "outputs": [
    {
     "name": "stdout",
     "output_type": "stream",
     "text": [
      "             isbn13      isbn10  \\\n",
      "0     9780002005883  0002005883   \n",
      "1     9780002261982  0002261987   \n",
      "2     9780006178736  0006178731   \n",
      "3     9780006280897  0006280897   \n",
      "4     9780006280934  0006280935   \n",
      "...             ...         ...   \n",
      "5192  9788172235222  8172235224   \n",
      "5193  9788173031014  8173031010   \n",
      "5194  9788179921623  817992162X   \n",
      "5195  9788185300535  8185300534   \n",
      "5196  9789027712059  9027712050   \n",
      "\n",
      "                                                  title  \\\n",
      "0                                                Gilead   \n",
      "1                                          Spider's Web   \n",
      "2                                        Rage of angels   \n",
      "3                                        The Four Loves   \n",
      "4                                   The Problem of Pain   \n",
      "...                                                 ...   \n",
      "5192                                  Mistaken Identity   \n",
      "5193                                Journey to the East   \n",
      "5194  The Monk Who Sold His Ferrari: A Fable About F...   \n",
      "5195                                          I Am that   \n",
      "5196                           The Berlin Phenomenology   \n",
      "\n",
      "                                           authors  \\\n",
      "0                               Marilynne Robinson   \n",
      "1                  Charles Osborne;Agatha Christie   \n",
      "2                                   Sidney Sheldon   \n",
      "3                              Clive Staples Lewis   \n",
      "4                              Clive Staples Lewis   \n",
      "...                                            ...   \n",
      "5192                              Nayantara Sahgal   \n",
      "5193                                 Hermann Hesse   \n",
      "5194                                  Robin Sharma   \n",
      "5195  Sri Nisargadatta Maharaj;Sudhakar S. Dikshit   \n",
      "5196                 Georg Wilhelm Friedrich Hegel   \n",
      "\n",
      "                         categories  \\\n",
      "0                           Fiction   \n",
      "1     Detective and mystery stories   \n",
      "2                           Fiction   \n",
      "3                    Christian life   \n",
      "4                    Christian life   \n",
      "...                             ...   \n",
      "5192        Indic fiction (English)   \n",
      "5193              Adventure stories   \n",
      "5194               Health & Fitness   \n",
      "5195                     Philosophy   \n",
      "5196                        History   \n",
      "\n",
      "                                              thumbnail  \\\n",
      "0     http://books.google.com/books/content?id=KQZCP...   \n",
      "1     http://books.google.com/books/content?id=gA5GP...   \n",
      "2     http://books.google.com/books/content?id=FKo2T...   \n",
      "3     http://books.google.com/books/content?id=XhQ5X...   \n",
      "4     http://books.google.com/books/content?id=Kk-uV...   \n",
      "...                                                 ...   \n",
      "5192  http://books.google.com/books/content?id=q-tKP...   \n",
      "5193  http://books.google.com/books/content?id=rq6JP...   \n",
      "5194  http://books.google.com/books/content?id=c_7mf...   \n",
      "5195  http://books.google.com/books/content?id=Fv_JP...   \n",
      "5196  http://books.google.com/books/content?id=Vy7Sk...   \n",
      "\n",
      "                                            description  published_year  \\\n",
      "0     A NOVEL THAT READERS and critics have been eag...          2004.0   \n",
      "1     A new 'Christie for Christmas' -- a full-lengt...          2000.0   \n",
      "2     A memorable, mesmerizing heroine Jennifer -- b...          1993.0   \n",
      "3     Lewis' work on the nature of love divides love...          2002.0   \n",
      "4     \"In The Problem of Pain, C.S. Lewis, one of th...          2002.0   \n",
      "...                                                 ...             ...   \n",
      "5192  On A Train Journey Home To North India After L...          2003.0   \n",
      "5193  This book tells the tale of a man who goes on ...          2002.0   \n",
      "5194  Wisdom to Create a Life of Passion, Purpose, a...          2003.0   \n",
      "5195  This collection of the timeless teachings of o...          1999.0   \n",
      "5196  Since the three volume edition ofHegel's Philo...          1981.0   \n",
      "\n",
      "      average_rating  num_pages  ...  \\\n",
      "0               3.85      247.0  ...   \n",
      "1               3.83      241.0  ...   \n",
      "2               3.93      512.0  ...   \n",
      "3               4.15      170.0  ...   \n",
      "4               4.09      176.0  ...   \n",
      "...              ...        ...  ...   \n",
      "5192            2.93      324.0  ...   \n",
      "5193            3.70      175.0  ...   \n",
      "5194            3.82      198.0  ...   \n",
      "5195            4.51      531.0  ...   \n",
      "5196            0.00      210.0  ...   \n",
      "\n",
      "                                     title_and_subtitle  \\\n",
      "0                                                Gilead   \n",
      "1                                 Spider's Web: A Novel   \n",
      "2                                        Rage of angels   \n",
      "3                                        The Four Loves   \n",
      "4                                   The Problem of Pain   \n",
      "...                                                 ...   \n",
      "5192                                  Mistaken Identity   \n",
      "5193                                Journey to the East   \n",
      "5194  The Monk Who Sold His Ferrari: A Fable About F...   \n",
      "5195     I Am that: Talks with Sri Nisargadatta Maharaj   \n",
      "5196                           The Berlin Phenomenology   \n",
      "\n",
      "                                     tagged_description simple_categories  \\\n",
      "0     9780002005883 A NOVEL THAT READERS and critics...           Fiction   \n",
      "1     9780002261982 A new 'Christie for Christmas' -...           Fiction   \n",
      "2     9780006178736 A memorable, mesmerizing heroine...           Fiction   \n",
      "3     9780006280897 Lewis' work on the nature of lov...        Nonfiction   \n",
      "4     9780006280934 \"In The Problem of Pain, C.S. Le...        Nonfiction   \n",
      "...                                                 ...               ...   \n",
      "5192  9788172235222 On A Train Journey Home To North...           Fiction   \n",
      "5193  9788173031014 This book tells the tale of a ma...           Fiction   \n",
      "5194  9788179921623 Wisdom to Create a Life of Passi...           Fiction   \n",
      "5195  9788185300535 This collection of the timeless ...        Nonfiction   \n",
      "5196  9789027712059 Since the three volume edition o...        Nonfiction   \n",
      "\n",
      "         anger   disgust      fear       joy   neutral   sadness  surprise  \n",
      "0     0.040564  0.051363  0.064134  0.093627  0.109083  0.273591  0.967158  \n",
      "1     0.040564  0.051363  0.077130  0.143347  0.195437  0.319349  0.942528  \n",
      "2     0.040564  0.051363  0.064134  0.078765  0.104007  0.111690  0.972321  \n",
      "3     0.040564  0.051363  0.064134  0.079672  0.150722  0.351485  0.732685  \n",
      "4     0.040564  0.051363  0.064134  0.095043  0.122243  0.272614  0.884390  \n",
      "...        ...       ...       ...       ...       ...       ...       ...  \n",
      "5192  0.009569  0.030656  0.043363  0.127782  0.148209  0.305737  0.980877  \n",
      "5193  0.040564  0.051363  0.064134  0.078765  0.227765  0.338892  0.883198  \n",
      "5194  0.009055  0.009929  0.057625  0.066685  0.141734  0.339218  0.947779  \n",
      "5195  0.040564  0.051363  0.064134  0.078765  0.214132  0.368111  0.951104  \n",
      "5196  0.040564  0.051363  0.064134  0.078765  0.104007  0.402251  0.958549  \n",
      "\n",
      "[5197 rows x 21 columns]\n"
     ]
    }
   ],
   "source": [
    "print(books)"
   ]
  },
  {
   "cell_type": "code",
   "execution_count": 22,
   "id": "82afc323",
   "metadata": {},
   "outputs": [],
   "source": [
    "books.to_csv(\"books_with_emotions.csv\", index=False)"
   ]
  },
  {
   "cell_type": "code",
   "execution_count": null,
   "id": "68b3393a",
   "metadata": {},
   "outputs": [],
   "source": []
  }
 ],
 "metadata": {
  "kernelspec": {
   "display_name": "Python 3",
   "language": "python",
   "name": "python3"
  },
  "language_info": {
   "codemirror_mode": {
    "name": "ipython",
    "version": 3
   },
   "file_extension": ".py",
   "mimetype": "text/x-python",
   "name": "python",
   "nbconvert_exporter": "python",
   "pygments_lexer": "ipython3",
   "version": "3.10.11"
  }
 },
 "nbformat": 4,
 "nbformat_minor": 5
}
