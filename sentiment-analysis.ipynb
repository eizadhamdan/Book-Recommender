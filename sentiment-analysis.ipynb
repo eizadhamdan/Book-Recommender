{
 "cells": [
  {
   "cell_type": "code",
   "execution_count": 1,
   "id": "c5c4af9e",
   "metadata": {},
   "outputs": [],
   "source": [
    "import pandas as pd\n",
    "\n",
    "books = pd.read_csv(\"books_with_categories.csv\")"
   ]
  },
  {
   "cell_type": "code",
   "execution_count": 6,
   "id": "bc28cfc0",
   "metadata": {},
   "outputs": [
    {
     "name": "stderr",
     "output_type": "stream",
     "text": [
      "Device set to use cpu\n"
     ]
    },
    {
     "name": "stdout",
     "output_type": "stream",
     "text": [
      "[[{'label': 'joy', 'score': 0.9771687984466553}, {'label': 'surprise', 'score': 0.008528691716492176}, {'label': 'neutral', 'score': 0.005764589179307222}, {'label': 'anger', 'score': 0.004419791977852583}, {'label': 'sadness', 'score': 0.002092393347993493}, {'label': 'disgust', 'score': 0.001611992483958602}, {'label': 'fear', 'score': 0.0004138525982853025}]]\n"
     ]
    }
   ],
   "source": [
    "from transformers import pipeline\n",
    "classifier = pipeline(\"text-classification\", model=\"j-hartmann/emotion-english-distilroberta-base\", top_k=None, device=0)\n",
    "\n",
    "\n",
    "print(classifier(\"I love this!\"))"
   ]
  },
  {
   "cell_type": "code",
   "execution_count": 7,
   "id": "b0971771",
   "metadata": {},
   "outputs": [
    {
     "name": "stdout",
     "output_type": "stream",
     "text": [
      "A NOVEL THAT READERS and critics have been eagerly anticipating for over a decade, Gilead is an astonishingly imagined story of remarkable lives. John Ames is a preacher, the son of a preacher and the grandson (both maternal and paternal) of preachers. It’s 1956 in Gilead, Iowa, towards the end of the Reverend Ames’s life, and he is absorbed in recording his family’s story, a legacy for the young son he will never see grow up. Haunted by his grandfather’s presence, John tells of the rift between his grandfather and his father: the elder, an angry visionary who fought for the abolitionist cause, and his son, an ardent pacifist. He is troubled, too, by his prodigal namesake, Jack (John Ames) Boughton, his best friend’s lost son who returns to Gilead searching for forgiveness and redemption. Told in John Ames’s joyous, rambling voice that finds beauty, humour and truth in the smallest of life’s details, Gilead is a song of celebration and acceptance of the best and the worst the world has to offer. At its heart is a tale of the sacred bonds between fathers and sons, pitch-perfect in style and story, set to dazzle critics and readers alike.\n"
     ]
    }
   ],
   "source": [
    "print(books[\"description\"][0])"
   ]
  },
  {
   "cell_type": "code",
   "execution_count": 8,
   "id": "93542689",
   "metadata": {},
   "outputs": [
    {
     "name": "stdout",
     "output_type": "stream",
     "text": [
      "Model saved locally at ./emotion_model\n"
     ]
    }
   ],
   "source": [
    "model_name = \"j-hartmann/emotion-english-distilroberta-base\"\n",
    "local_dir = \"./emotion_model\"\n",
    "\n",
    "classifier.model.save_pretrained(local_dir)\n",
    "classifier.tokenizer.save_pretrained(local_dir)\n",
    "\n",
    "print(\"Model saved locally at\", local_dir)"
   ]
  },
  {
   "cell_type": "code",
   "execution_count": 9,
   "id": "5f0f955a",
   "metadata": {},
   "outputs": [
    {
     "name": "stdout",
     "output_type": "stream",
     "text": [
      "[[{'label': 'fear', 'score': 0.6548402309417725}, {'label': 'neutral', 'score': 0.16985242068767548}, {'label': 'sadness', 'score': 0.1164093017578125}, {'label': 'surprise', 'score': 0.020700663328170776}, {'label': 'disgust', 'score': 0.019100690260529518}, {'label': 'joy', 'score': 0.015161467716097832}, {'label': 'anger', 'score': 0.003935147542506456}]]\n"
     ]
    }
   ],
   "source": [
    "print(classifier(books[\"description\"][0]))"
   ]
  },
  {
   "cell_type": "code",
   "execution_count": 10,
   "id": "7db0fae9",
   "metadata": {},
   "outputs": [
    {
     "name": "stdout",
     "output_type": "stream",
     "text": [
      "[[{'label': 'surprise', 'score': 0.7296021580696106}, {'label': 'neutral', 'score': 0.14038598537445068}, {'label': 'fear', 'score': 0.06816227734088898}, {'label': 'joy', 'score': 0.04794260486960411}, {'label': 'anger', 'score': 0.009156367741525173}, {'label': 'disgust', 'score': 0.0026284768246114254}, {'label': 'sadness', 'score': 0.002122163772583008}], [{'label': 'neutral', 'score': 0.4493706524372101}, {'label': 'disgust', 'score': 0.27359113097190857}, {'label': 'joy', 'score': 0.1090831384062767}, {'label': 'sadness', 'score': 0.09362747520208359}, {'label': 'anger', 'score': 0.04047833010554314}, {'label': 'surprise', 'score': 0.02697019837796688}, {'label': 'fear', 'score': 0.006879049818962812}], [{'label': 'neutral', 'score': 0.6462159156799316}, {'label': 'sadness', 'score': 0.242733433842659}, {'label': 'disgust', 'score': 0.043422672897577286}, {'label': 'surprise', 'score': 0.02830057218670845}, {'label': 'joy', 'score': 0.014211490750312805}, {'label': 'fear', 'score': 0.014084091410040855}, {'label': 'anger', 'score': 0.011031905189156532}], [{'label': 'fear', 'score': 0.9281682968139648}, {'label': 'anger', 'score': 0.03219081461429596}, {'label': 'neutral', 'score': 0.012808660045266151}, {'label': 'sadness', 'score': 0.008756875991821289}, {'label': 'surprise', 'score': 0.008597892709076405}, {'label': 'disgust', 'score': 0.008431807160377502}, {'label': 'joy', 'score': 0.0010455832816660404}], [{'label': 'sadness', 'score': 0.9671575427055359}, {'label': 'neutral', 'score': 0.015104148536920547}, {'label': 'disgust', 'score': 0.00648059556260705}, {'label': 'fear', 'score': 0.005393987521529198}, {'label': 'surprise', 'score': 0.0022869398817420006}, {'label': 'anger', 'score': 0.001842890284024179}, {'label': 'joy', 'score': 0.0017338779289275408}], [{'label': 'joy', 'score': 0.9327981472015381}, {'label': 'disgust', 'score': 0.0377170704305172}, {'label': 'neutral', 'score': 0.015891827642917633}, {'label': 'sadness', 'score': 0.006444500293582678}, {'label': 'anger', 'score': 0.005024968180805445}, {'label': 'surprise', 'score': 0.0015812065685167909}, {'label': 'fear', 'score': 0.0005423057009465992}], [{'label': 'joy', 'score': 0.6528705954551697}, {'label': 'neutral', 'score': 0.25427478551864624}, {'label': 'surprise', 'score': 0.06808297336101532}, {'label': 'sadness', 'score': 0.009908991865813732}, {'label': 'disgust', 'score': 0.006512214429676533}, {'label': 'anger', 'score': 0.0048213074915111065}, {'label': 'fear', 'score': 0.003529018023982644}], [{'label': 'neutral', 'score': 0.549476683139801}, {'label': 'sadness', 'score': 0.11169019341468811}, {'label': 'disgust', 'score': 0.10400673747062683}, {'label': 'surprise', 'score': 0.07876546680927277}, {'label': 'anger', 'score': 0.06413363665342331}, {'label': 'fear', 'score': 0.051362838596105576}, {'label': 'joy', 'score': 0.04056441783905029}]]\n"
     ]
    }
   ],
   "source": [
    "print(classifier(books[\"description\"][0].split(\".\")))"
   ]
  },
  {
   "cell_type": "code",
   "execution_count": 11,
   "id": "ba3c76ac",
   "metadata": {},
   "outputs": [],
   "source": [
    "sentences = books[\"description\"][0].split(\".\")\n",
    "predictions = classifier(sentences)"
   ]
  },
  {
   "cell_type": "code",
   "execution_count": 14,
   "id": "8eff5a4b",
   "metadata": {},
   "outputs": [
    {
     "name": "stdout",
     "output_type": "stream",
     "text": [
      "A NOVEL THAT READERS and critics have been eagerly anticipating for over a decade, Gilead is an astonishingly imagined story of remarkable lives\n",
      "[{'label': 'surprise', 'score': 0.7296021580696106}, {'label': 'neutral', 'score': 0.14038598537445068}, {'label': 'fear', 'score': 0.06816227734088898}, {'label': 'joy', 'score': 0.04794260486960411}, {'label': 'anger', 'score': 0.009156367741525173}, {'label': 'disgust', 'score': 0.0026284768246114254}, {'label': 'sadness', 'score': 0.002122163772583008}]\n"
     ]
    }
   ],
   "source": [
    "print(sentences[0])\n",
    "print(predictions[0])"
   ]
  },
  {
   "cell_type": "code",
   "execution_count": 15,
   "id": "fb1f9787",
   "metadata": {},
   "outputs": [
    {
     "name": "stdout",
     "output_type": "stream",
     "text": [
      " Haunted by his grandfather’s presence, John tells of the rift between his grandfather and his father: the elder, an angry visionary who fought for the abolitionist cause, and his son, an ardent pacifist\n",
      "[{'label': 'fear', 'score': 0.9281682968139648}, {'label': 'anger', 'score': 0.03219081461429596}, {'label': 'neutral', 'score': 0.012808660045266151}, {'label': 'sadness', 'score': 0.008756875991821289}, {'label': 'surprise', 'score': 0.008597892709076405}, {'label': 'disgust', 'score': 0.008431807160377502}, {'label': 'joy', 'score': 0.0010455832816660404}]\n"
     ]
    }
   ],
   "source": [
    "print(sentences[3])\n",
    "print(predictions[3])"
   ]
  },
  {
   "cell_type": "code",
   "execution_count": null,
   "id": "a865bd12",
   "metadata": {},
   "outputs": [],
   "source": []
  }
 ],
 "metadata": {
  "kernelspec": {
   "display_name": "Python 3",
   "language": "python",
   "name": "python3"
  },
  "language_info": {
   "codemirror_mode": {
    "name": "ipython",
    "version": 3
   },
   "file_extension": ".py",
   "mimetype": "text/x-python",
   "name": "python",
   "nbconvert_exporter": "python",
   "pygments_lexer": "ipython3",
   "version": "3.10.11"
  }
 },
 "nbformat": 4,
 "nbformat_minor": 5
}
